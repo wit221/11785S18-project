{
 "cells": [
  {
   "cell_type": "markdown",
   "metadata": {},
   "source": [
    "Imports"
   ]
  },
  {
   "cell_type": "code",
   "execution_count": 1,
   "metadata": {},
   "outputs": [],
   "source": [
    "import numpy as np\n",
    "import os\n",
    "import os.path\n",
    "from functools import reduce\n",
    "import pickle"
   ]
  },
  {
   "cell_type": "markdown",
   "metadata": {},
   "source": [
    "Logistics"
   ]
  },
  {
   "cell_type": "code",
   "execution_count": 2,
   "metadata": {},
   "outputs": [],
   "source": [
    "all_data_path = os.path.join(os.environ['NHANES_PROJECT_ROOT'], 'data/npy')\n",
    "diet_path = os.path.join(all_data_path, 'diet')\n",
    "demo_path = os.path.join(all_data_path, 'demo')\n",
    "exam_path = os.path.join(all_data_path, 'exam')\n",
    "lab_path = os.path.join(all_data_path, 'lab')\n",
    "\n",
    "label_names = {'demo': 'demographic_column_headers', 'blood': 'blood_pressure_column_headers', 'body': 'body_measurement_column_headers', 'lab': 'quantized_dense_labdata_info', 'diet': 'dietary_labels_2007-2013'}\n",
    "data_names = {'demo': 'demographic_data', 'blood': 'blood_pressure_data', 'body': 'body_measurement_data', 'lab': 'dense_labdata', 'diet': 'dietary_data_2007-2013'}\n",
    "years = ['{}-{}'.format(year, year+1) for year in range(2007, 2013+1, 2)]\n"
   ]
  },
  {
   "cell_type": "markdown",
   "metadata": {},
   "source": [
    "Helpers"
   ]
  },
  {
   "cell_type": "code",
   "execution_count": 3,
   "metadata": {},
   "outputs": [],
   "source": [
    "#O(nm)..., but serves its purpose\n",
    "def indexOf(labels, label):\n",
    "    index = -1\n",
    "    for i in range(len(labels)):\n",
    "        if label == labels[i]['name']:\n",
    "            index = i\n",
    "            break\n",
    "    return index"
   ]
  },
  {
   "cell_type": "markdown",
   "metadata": {},
   "source": [
    "Merge lab all years"
   ]
  },
  {
   "cell_type": "code",
   "execution_count": null,
   "metadata": {},
   "outputs": [],
   "source": [
    "sel_chems = ['URXUHG', 'URXUCD', 'URXUPB', 'LBXBGM','LBXBCD',  'LBXBPB', 'LBXTHG', 'URXUAS']\n",
    "comp = 'lab'\n",
    "all_datas = []\n",
    "fill_val = 0\n",
    "for year in years:\n",
    "    data_path = os.path.join(all_data_path, os.path.join(comp), '{}_{}.npy'.format(data_names[comp], year))\n",
    "    label_path = os.path.join(all_data_path, os.path.join(comp), '{}_{}.npy'.format(label_names[comp], year))\n",
    "    data_year = np.load(data_path)\n",
    "    labels_year = np.load(label_path)\n",
    "    \n",
    "    #get indices of interest\n",
    "    indices = [indexOf(labels_year, chem_name) for chem_name in sel_chems]\n",
    "    \n",
    "    #discard first X0\n",
    "    data_year = data_year[:,:,1]\n",
    "    \n",
    "    #take indices of interest\n",
    "    data_year = data_year[:, indices]\n",
    "    \n",
    "    #fill missing values\n",
    "    data_year[:, np.array(indices) == -1] = fill_val\n",
    "    all_datas.append(data_year)\n",
    "    #just take the latest year's labels since all the same\n",
    "    if year == '2013-2014':\n",
    "        lab_labels = labels_year[indices]\n",
    "lab_data = np.vstack(all_datas)"
   ]
  },
  {
   "cell_type": "markdown",
   "metadata": {},
   "source": [
    "Merge demo all years"
   ]
  },
  {
   "cell_type": "code",
   "execution_count": 5,
   "metadata": {},
   "outputs": [],
   "source": [
    "comp = 'demo'\n",
    "all_labels = []\n",
    "all_datas = []\n",
    "for year in years:\n",
    "    data_path = os.path.join(all_data_path, os.path.join(comp), '{}_{}.npy'.format(data_names[comp], year))\n",
    "    label_path = os.path.join(all_data_path, os.path.join(comp), '{}_{}.npy'.format(label_names[comp], year))\n",
    "    data_year = np.load(data_path)\n",
    "    labels_year = np.load(label_path)\n",
    "    all_datas.append(data_year)\n",
    "    all_labels.append(labels_year)\n",
    "demo_data = np.vstack(all_datas)\n",
    "demo_labels = np.array([{'name':label} for label in all_labels[-1]], dtype=object)"
   ]
  },
  {
   "cell_type": "markdown",
   "metadata": {},
   "source": [
    "Merge blood all years"
   ]
  },
  {
   "cell_type": "code",
   "execution_count": 6,
   "metadata": {},
   "outputs": [],
   "source": [
    "comp = 'blood'\n",
    "all_labels = []\n",
    "all_datas = []\n",
    "for year in years:\n",
    "    data_path = os.path.join(all_data_path, os.path.join(comp), '{}_{}.npy'.format(data_names[comp], year))\n",
    "    label_path = os.path.join(all_data_path, os.path.join(comp), '{}_{}.npy'.format(label_names[comp], year))\n",
    "    data_year = np.load(data_path)\n",
    "    labels_year = np.load(label_path)\n",
    "    all_datas.append(data_year)\n",
    "    all_labels.append(labels_year)\n",
    "blood_data = np.vstack(all_datas)\n",
    "blood_labels = np.array([{'name':label} for label in all_labels[-1]], dtype=object)"
   ]
  },
  {
   "cell_type": "markdown",
   "metadata": {},
   "source": [
    "Merge body all years"
   ]
  },
  {
   "cell_type": "code",
   "execution_count": 7,
   "metadata": {},
   "outputs": [],
   "source": [
    "comp = 'body'\n",
    "all_labels = []\n",
    "all_datas = []\n",
    "for year in years:\n",
    "    data_path = os.path.join(all_data_path, os.path.join(comp), '{}_{}.npy'.format(data_names[comp], year))\n",
    "    label_path = os.path.join(all_data_path, os.path.join(comp), '{}_{}.npy'.format(label_names[comp], year))\n",
    "    data_year = np.load(data_path)\n",
    "    labels_year = np.load(label_path)\n",
    "    all_datas.append(data_year)\n",
    "    all_labels.append(labels_year)\n",
    "body_data = np.vstack(all_datas)\n",
    "body_labels = np.array([{'name':label} for label in all_labels[-1]], dtype=object)"
   ]
  },
  {
   "cell_type": "markdown",
   "metadata": {},
   "source": [
    "Merge diet"
   ]
  },
  {
   "cell_type": "code",
   "execution_count": 8,
   "metadata": {},
   "outputs": [],
   "source": [
    "comp = 'diet'\n",
    "data_path = os.path.join(all_data_path, os.path.join(comp), '{}.npy'.format(data_names[comp]))\n",
    "label_path = os.path.join(all_data_path, os.path.join(comp), '{}.npy'.format(label_names[comp]))\n",
    "diet_data = np.load(data_path)\n",
    "diet_labels = np.load(label_path)\n",
    "diet_labels = np.array([{'name':label} for label in diet_labels], dtype=object)"
   ]
  },
  {
   "cell_type": "markdown",
   "metadata": {},
   "source": [
    "Merge all"
   ]
  },
  {
   "cell_type": "code",
   "execution_count": 9,
   "metadata": {},
   "outputs": [
    {
     "name": "stdout",
     "output_type": "stream",
     "text": [
      "(40617, 8) (8,) (40617, 134) (134,) (40617, 102) (102,) (40617, 44) (44,) (40617, 32332) (32332,)\n"
     ]
    }
   ],
   "source": [
    "#sanity check\n",
    "print(lab_data.shape, lab_labels.shape, demo_data.shape, demo_labels.shape, blood_data.shape, blood_labels.shape, body_data.shape, body_labels.shape, diet_data.shape, diet_labels.shape)\n",
    "data_arr = [demo_data, blood_data, body_data, diet_data, lab_data]\n",
    "labels_arr = [demo_labels, blood_labels, body_labels, diet_labels, lab_labels]\n",
    "data = np.hstack(data_arr)\n",
    "labels = np.hstack(labels_arr)"
   ]
  },
  {
   "cell_type": "markdown",
   "metadata": {},
   "source": [
    "Make info"
   ]
  },
  {
   "cell_type": "code",
   "execution_count": 231,
   "metadata": {},
   "outputs": [],
   "source": [
    "info = {'offsets':\n",
    "            {'demo':0,\n",
    "            'blood': demo_labels.size,\n",
    "            'body': info['offsets']['blood'] + blood_labels.size,\n",
    "            'diet': info['offsets']['body'] + body_labels.size,\n",
    "            'lab': info['offsets']['diet'] + diet_labels.size, \n",
    "            }\n",
    "       }"
   ]
  },
  {
   "cell_type": "markdown",
   "metadata": {},
   "source": [
    "Filter out years"
   ]
  },
  {
   "cell_type": "code",
   "execution_count": 2,
   "metadata": {},
   "outputs": [
    {
     "ename": "NameError",
     "evalue": "name 'indexOf' is not defined",
     "output_type": "error",
     "traceback": [
      "\u001b[0;31m---------------------------------------------------------------------------\u001b[0m",
      "\u001b[0;31mNameError\u001b[0m                                 Traceback (most recent call last)",
      "\u001b[0;32m<ipython-input-2-79cfb0c00f1c>\u001b[0m in \u001b[0;36m<module>\u001b[0;34m()\u001b[0m\n\u001b[1;32m      1\u001b[0m \u001b[0mchildren_labs\u001b[0m \u001b[0;34m=\u001b[0m \u001b[0;34m[\u001b[0m\u001b[0;34m'RIDAGEYR_0-9'\u001b[0m\u001b[0;34m,\u001b[0m \u001b[0;34m'RIDAGEYR_10-19'\u001b[0m\u001b[0;34m]\u001b[0m\u001b[0;34m\u001b[0m\u001b[0m\n\u001b[0;32m----> 2\u001b[0;31m \u001b[0mindices\u001b[0m \u001b[0;34m=\u001b[0m \u001b[0;34m[\u001b[0m\u001b[0mindexOf\u001b[0m\u001b[0;34m(\u001b[0m\u001b[0mlabels\u001b[0m\u001b[0;34m,\u001b[0m \u001b[0mchild_lab\u001b[0m\u001b[0;34m)\u001b[0m \u001b[0;32mfor\u001b[0m \u001b[0mchild_lab\u001b[0m \u001b[0;32min\u001b[0m \u001b[0mchildren_labs\u001b[0m\u001b[0;34m]\u001b[0m\u001b[0;34m\u001b[0m\u001b[0m\n\u001b[0m\u001b[1;32m      3\u001b[0m \u001b[0madult_ind\u001b[0m \u001b[0;34m=\u001b[0m \u001b[0mnp\u001b[0m\u001b[0;34m.\u001b[0m\u001b[0msum\u001b[0m\u001b[0;34m(\u001b[0m\u001b[0mdata\u001b[0m\u001b[0;34m[\u001b[0m\u001b[0;34m:\u001b[0m\u001b[0;34m,\u001b[0m \u001b[0mindices\u001b[0m\u001b[0;34m]\u001b[0m\u001b[0;34m,\u001b[0m \u001b[0;36m1\u001b[0m\u001b[0;34m)\u001b[0m \u001b[0;34m==\u001b[0m \u001b[0;36m0\u001b[0m\u001b[0;34m\u001b[0m\u001b[0m\n\u001b[1;32m      4\u001b[0m \u001b[0madult_data\u001b[0m \u001b[0;34m=\u001b[0m \u001b[0mdata\u001b[0m\u001b[0;34m[\u001b[0m\u001b[0madult_ind\u001b[0m\u001b[0;34m,\u001b[0m \u001b[0;34m:\u001b[0m\u001b[0;34m]\u001b[0m\u001b[0;34m\u001b[0m\u001b[0m\n\u001b[1;32m      5\u001b[0m \u001b[0mseqn\u001b[0m \u001b[0;34m=\u001b[0m \u001b[0mnp\u001b[0m\u001b[0;34m.\u001b[0m\u001b[0mload\u001b[0m\u001b[0;34m(\u001b[0m\u001b[0mos\u001b[0m\u001b[0;34m.\u001b[0m\u001b[0mpath\u001b[0m\u001b[0;34m.\u001b[0m\u001b[0mjoin\u001b[0m\u001b[0;34m(\u001b[0m\u001b[0mall_data_path\u001b[0m\u001b[0;34m,\u001b[0m \u001b[0mos\u001b[0m\u001b[0;34m.\u001b[0m\u001b[0mpath\u001b[0m\u001b[0;34m.\u001b[0m\u001b[0mjoin\u001b[0m\u001b[0;34m(\u001b[0m\u001b[0;34m'diet'\u001b[0m\u001b[0;34m)\u001b[0m\u001b[0;34m,\u001b[0m \u001b[0;34m'dietary_seqn_2007-2013.npy'\u001b[0m\u001b[0;34m)\u001b[0m\u001b[0;34m)\u001b[0m\u001b[0;34m\u001b[0m\u001b[0m\n",
      "\u001b[0;32m<ipython-input-2-79cfb0c00f1c>\u001b[0m in \u001b[0;36m<listcomp>\u001b[0;34m(.0)\u001b[0m\n\u001b[1;32m      1\u001b[0m \u001b[0mchildren_labs\u001b[0m \u001b[0;34m=\u001b[0m \u001b[0;34m[\u001b[0m\u001b[0;34m'RIDAGEYR_0-9'\u001b[0m\u001b[0;34m,\u001b[0m \u001b[0;34m'RIDAGEYR_10-19'\u001b[0m\u001b[0;34m]\u001b[0m\u001b[0;34m\u001b[0m\u001b[0m\n\u001b[0;32m----> 2\u001b[0;31m \u001b[0mindices\u001b[0m \u001b[0;34m=\u001b[0m \u001b[0;34m[\u001b[0m\u001b[0mindexOf\u001b[0m\u001b[0;34m(\u001b[0m\u001b[0mlabels\u001b[0m\u001b[0;34m,\u001b[0m \u001b[0mchild_lab\u001b[0m\u001b[0;34m)\u001b[0m \u001b[0;32mfor\u001b[0m \u001b[0mchild_lab\u001b[0m \u001b[0;32min\u001b[0m \u001b[0mchildren_labs\u001b[0m\u001b[0;34m]\u001b[0m\u001b[0;34m\u001b[0m\u001b[0m\n\u001b[0m\u001b[1;32m      3\u001b[0m \u001b[0madult_ind\u001b[0m \u001b[0;34m=\u001b[0m \u001b[0mnp\u001b[0m\u001b[0;34m.\u001b[0m\u001b[0msum\u001b[0m\u001b[0;34m(\u001b[0m\u001b[0mdata\u001b[0m\u001b[0;34m[\u001b[0m\u001b[0;34m:\u001b[0m\u001b[0;34m,\u001b[0m \u001b[0mindices\u001b[0m\u001b[0;34m]\u001b[0m\u001b[0;34m,\u001b[0m \u001b[0;36m1\u001b[0m\u001b[0;34m)\u001b[0m \u001b[0;34m==\u001b[0m \u001b[0;36m0\u001b[0m\u001b[0;34m\u001b[0m\u001b[0m\n\u001b[1;32m      4\u001b[0m \u001b[0madult_data\u001b[0m \u001b[0;34m=\u001b[0m \u001b[0mdata\u001b[0m\u001b[0;34m[\u001b[0m\u001b[0madult_ind\u001b[0m\u001b[0;34m,\u001b[0m \u001b[0;34m:\u001b[0m\u001b[0;34m]\u001b[0m\u001b[0;34m\u001b[0m\u001b[0m\n\u001b[1;32m      5\u001b[0m \u001b[0mseqn\u001b[0m \u001b[0;34m=\u001b[0m \u001b[0mnp\u001b[0m\u001b[0;34m.\u001b[0m\u001b[0mload\u001b[0m\u001b[0;34m(\u001b[0m\u001b[0mos\u001b[0m\u001b[0;34m.\u001b[0m\u001b[0mpath\u001b[0m\u001b[0;34m.\u001b[0m\u001b[0mjoin\u001b[0m\u001b[0;34m(\u001b[0m\u001b[0mall_data_path\u001b[0m\u001b[0;34m,\u001b[0m \u001b[0mos\u001b[0m\u001b[0;34m.\u001b[0m\u001b[0mpath\u001b[0m\u001b[0;34m.\u001b[0m\u001b[0mjoin\u001b[0m\u001b[0;34m(\u001b[0m\u001b[0;34m'diet'\u001b[0m\u001b[0;34m)\u001b[0m\u001b[0;34m,\u001b[0m \u001b[0;34m'dietary_seqn_2007-2013.npy'\u001b[0m\u001b[0;34m)\u001b[0m\u001b[0;34m)\u001b[0m\u001b[0;34m\u001b[0m\u001b[0m\n",
      "\u001b[0;31mNameError\u001b[0m: name 'indexOf' is not defined"
     ]
    }
   ],
   "source": [
    "children_labs = ['RIDAGEYR_0-9', 'RIDAGEYR_10-19']\n",
    "indices = [indexOf(labels, child_lab) for child_lab in children_labs]\n",
    "adult_ind = np.sum(data[:, indices], 1) == 0\n",
    "adult_data = data[adult_ind, :]\n",
    "seqn = np.load(os.path.join(all_data_path, os.path.join('diet'), 'dietary_seqn_2007-2013.npy'))\n",
    "adult_seqn = seqn[adult_ind]"
   ]
  },
  {
   "cell_type": "markdown",
   "metadata": {},
   "source": [
    "Save stuff"
   ]
  },
  {
   "cell_type": "code",
   "execution_count": 239,
   "metadata": {},
   "outputs": [],
   "source": [
    "save data, labels, seqn\n",
    "out_path = os.path.join(all_data_path, 'all')\n",
    "np.save(os.path.join(out_path, 'data_adult_2007-2014'), adult_data)\n",
    "np.save(os.path.join(out_path, 'labels_adult_2007-2014'), labels)\n",
    "np.save(os.path.join(out_path, 'seqn_adult_2007-2014'), adult_seqn)\n",
    "pickle.dump(info, open(os.path.join(out_path, 'info.pkl'), \"wb\" ))"
   ]
  }
 ],
 "metadata": {
  "kernelspec": {
   "display_name": "Python 3",
   "language": "python",
   "name": "python3"
  },
  "language_info": {
   "codemirror_mode": {
    "name": "ipython",
    "version": 3
   },
   "file_extension": ".py",
   "mimetype": "text/x-python",
   "name": "python",
   "nbconvert_exporter": "python",
   "pygments_lexer": "ipython3",
   "version": "3.5.2"
  }
 },
 "nbformat": 4,
 "nbformat_minor": 2
}
